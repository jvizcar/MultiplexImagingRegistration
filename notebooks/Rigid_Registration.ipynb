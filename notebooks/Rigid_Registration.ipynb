{
 "cells": [
  {
   "cell_type": "markdown",
   "metadata": {},
   "source": [
    "# Rigid Registration\n",
    "2020-07-28\n",
    "\n"
   ]
  },
  {
   "cell_type": "code",
   "execution_count": null,
   "metadata": {
    "ExecuteTime": {
     "end_time": "2020-07-29T18:26:03.595081Z",
     "start_time": "2020-07-29T18:26:03.555665Z"
    }
   },
   "outputs": [],
   "source": [
    "# autoreloads imported modules when modified\n",
    "%load_ext autoreload\n",
    "%autoreload 2"
   ]
  },
  {
   "cell_type": "code",
   "execution_count": null,
   "metadata": {
    "ExecuteTime": {
     "end_time": "2020-07-29T19:20:21.337807Z",
     "start_time": "2020-07-29T19:20:21.287145Z"
    }
   },
   "outputs": [],
   "source": [
    "import sys\n",
    "sys.path.append('..')\n",
    "\n",
    "import cv2\n",
    "from imageio import imread\n",
    "import numpy as np\n",
    "import matplotlib.pyplot as plt\n",
    "from skimage import transform\n",
    "from tqdm.notebook import tqdm\n",
    "from pandas import DataFrame, read_csv, concat\n",
    "import seaborn as sns\n",
    "\n",
    "from modules.utils import parse_tif_dir, normalize_image\n",
    "from modules.registration import register_images_adv\n",
    "\n",
    "from os.path import join\n",
    "from os import makedirs"
   ]
  },
  {
   "cell_type": "markdown",
   "metadata": {},
   "source": [
    "## Variables to set before running the loop"
   ]
  },
  {
   "cell_type": "code",
   "execution_count": null,
   "metadata": {
    "ExecuteTime": {
     "end_time": "2020-07-29T19:57:39.819101Z",
     "start_time": "2020-07-29T19:57:39.772907Z"
    }
   },
   "outputs": [],
   "source": [
    "# set variables for run\n",
    "\n",
    "# quench must be set to False\n",
    "filepaths = parse_tif_dir('/media/Registration/Datasets/tonsils/', quench=False)\n",
    "\n",
    "# ft_extractor = cv2.AKAZE_create()\n",
    "# ft_extractor = cv2.KAZE_create(extended=True)\n",
    "ft_extractor = cv2.xfeatures2d.SURF_create(hessianThreshold=1500)\n",
    "\n",
    "matcher = cv2.BFMatcher(normType=cv2.NORM_L2, crossCheck=True)\n",
    "\n",
    "# save path\n",
    "save_dir = '/mnt/RigidRegistrationFigures/tonsils_SURF_BF-Matcher'\n",
    "makedirs(save_dir, exist_ok=True)\n",
    "\n",
    "target_round = 1\n",
    "channels = [1, 2]  # channels to test out\n",
    "\n",
    "data = {'target_round': target_round, 'moving_round': [], 'channel': [], 'raw_error': [], 'registered_error': [],\n",
    "        'num_kpts': []}"
   ]
  },
  {
   "cell_type": "markdown",
   "metadata": {},
   "source": [
    "## Run the loop"
   ]
  },
  {
   "cell_type": "code",
   "execution_count": null,
   "metadata": {
    "ExecuteTime": {
     "start_time": "2020-07-29T19:57:41.620Z"
    }
   },
   "outputs": [],
   "source": [
    "# add this to avoid showing figures, prevents kernel dying\n",
    "%matplotlib agg\n",
    "\n",
    "max_round = max(list(filepaths.keys()))\n",
    "\n",
    "for channel in channels:\n",
    "    print(f'Running on channel {channel}')\n",
    "    \n",
    "    channel_dir = join(save_dir, f'channel_{channel}')\n",
    "    makedirs(channel_dir, exist_ok=True)\n",
    "    \n",
    "    # get target image\n",
    "    target_im = normalize_image(imread(filepaths[target_round][channel]))\n",
    "\n",
    "    # loop through the rest of the rounds\n",
    "    for _round in tqdm(range(1, max_round+1), total=len(range(1, max_round+1))):\n",
    "        # skip the target round\n",
    "        if _round != target_round: \n",
    "            # get moving image\n",
    "            moving_im = normalize_image(imread(filepaths[_round][channel]))\n",
    "\n",
    "            save_path = join(channel_dir, f'targetRound-{target_round}_movingRound-{_round}_channel-{channel}.png')\n",
    "\n",
    "            # run registration with saving image\n",
    "            results = register_images_adv(moving_im, target_im, ft_extractor, matcher, visuals=False, \n",
    "                                    savepath=save_path)\n",
    "            \n",
    "            # add results to data\n",
    "            data['moving_round'].append(_round)\n",
    "            data['channel'].append(channel)\n",
    "            data['raw_error'].append(results['error (raw)'])\n",
    "            data['registered_error'].append(results['error (registered)'])\n",
    "            data['num_kpts'].append(results['n_filtered_kpts'])\n",
    "            \n",
    "# save the data as dataframe\n",
    "df = DataFrame(data)\n",
    "df.to_csv(join(save_dir, 'results.csv'), index=False)"
   ]
  },
  {
   "cell_type": "markdown",
   "metadata": {},
   "source": [
    "## Box Plots"
   ]
  },
  {
   "cell_type": "code",
   "execution_count": null,
   "metadata": {},
   "outputs": [],
   "source": [
    "%matplotlib inline\n",
    "\n",
    "df = DataFrame(\n",
    "    columns=['target_round', 'moving_round', 'channel', 'raw_error', 'registered_error', 'num_kpts', 'ft'])\n",
    "\n",
    "\n",
    "df1 = read_csv('/mnt/RigidRegistrationFigures/normalBreast_KAZE_BF-Matcher/results.csv')\n",
    "df1['ft'] = 'KAZE'\n",
    "df2 = read_csv('/mnt/RigidRegistrationFigures/normalBreast_AKAZE_BF-Matcher/results.csv')\n",
    "df2['ft'] = 'AKAZE'\n",
    "df3 = read_csv('/mnt/RigidRegistrationFigures/normalBreast_SURF_BF-Matcher/results.csv')\n",
    "df3['ft'] = 'SURF'\n",
    "\n",
    "df = concat([df1, df2, df3])\n",
    "\n",
    "g = sns.catplot(x='ft', y='registered_error', hue='channel', data=df, kind='swarm', height=10)"
   ]
  },
  {
   "cell_type": "code",
   "execution_count": null,
   "metadata": {
    "scrolled": false
   },
   "outputs": [],
   "source": [
    "help(sns.catplot)"
   ]
  }
 ],
 "metadata": {
  "kernelspec": {
   "display_name": "Python 3",
   "language": "python",
   "name": "python3"
  },
  "language_info": {
   "codemirror_mode": {
    "name": "ipython",
    "version": 3
   },
   "file_extension": ".py",
   "mimetype": "text/x-python",
   "name": "python",
   "nbconvert_exporter": "python",
   "pygments_lexer": "ipython3",
   "version": "3.7.6"
  }
 },
 "nbformat": 4,
 "nbformat_minor": 2
}
