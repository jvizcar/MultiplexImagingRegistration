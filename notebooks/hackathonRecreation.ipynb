{
 "cells": [
  {
   "cell_type": "markdown",
   "metadata": {},
   "source": [
    "# Hackathon Recreation\n",
    "Updated on 2020-6-16 Tuesday\n",
    "\n",
    "The notebook attempts to recreate the hackathon results - results are saved into to csv file.\n",
    "\n",
    "```\n",
    "from IPython.display import display, HTML\n",
    "display(HTML(df.sort_values('Strategy').to_html()))\n",
    "```"
   ]
  },
  {
   "cell_type": "code",
   "execution_count": 4,
   "metadata": {},
   "outputs": [
    {
     "name": "stdout",
     "output_type": "stream",
     "text": [
      "The autoreload extension is already loaded. To reload it, use:\n",
      "  %reload_ext autoreload\n"
     ]
    }
   ],
   "source": [
    "%load_ext autoreload\n",
    "%autoreload 2"
   ]
  },
  {
   "cell_type": "code",
   "execution_count": 5,
   "metadata": {},
   "outputs": [],
   "source": [
    "import sys\n",
    "sys.path.append('..')\n",
    "\n",
    "from modules.utils import parse_tif_dir\n",
    "from modules.registration import register_images\n",
    "import modules.nonrigid_registration as nr\n",
    "\n",
    "import numpy as np\n",
    "import matplotlib.pyplot as plt\n",
    "import cv2\n",
    "from imageio import imread\n",
    "from pandas import read_csv, DataFrame\n",
    "from tqdm.notebook import tqdm\n",
    "import seaborn as sns\n",
    "import random\n",
    "from skimage import transform"
   ]
  },
  {
   "cell_type": "code",
   "execution_count": 6,
   "metadata": {},
   "outputs": [],
   "source": [
    "# parse image data directories into dict form\n",
    "filepaths_registered = parse_tif_dir('/media/jc/NVME_SSD/SageBionetworks/normalBreastRegistered/')\n",
    "filepaths_unregistered = parse_tif_dir('/media/jc/NVME_SSD/SageBionetworks/normalBreast/')\n",
    "\n",
    "# save path\n",
    "save_path = '../Data_Files/recreation_results'"
   ]
  },
  {
   "cell_type": "markdown",
   "metadata": {},
   "source": [
    "## OHSU Registration Distances\n",
    "OHSU provided already registered images, we can estimate the distance between the rounds by using the DAPI channel in each round. Note that these images are already registered so make sure not to try registering them again."
   ]
  },
  {
   "cell_type": "code",
   "execution_count": null,
   "metadata": {},
   "outputs": [],
   "source": [
    "# header for DataFrame used to create output CSV file\n",
    "df = DataFrame(columns=['Moving', 'Strategy', 'Distance', 'Target', 'Channel', 'Dataset'])\n",
    "\n",
    "target_round = 1\n",
    "\n",
    "# target should be round 1 and DAPI channel (first channel)\n",
    "target = imread(filepaths_registered[target_round][1])\n",
    "\n",
    "# go through registered filepaths\n",
    "for _round, filepaths in tqdm(filepaths_registered.items()):\n",
    "    # skip round 0 (unlabeled round) and 1 (target round)\n",
    "    if _round not in [0, 1]:\n",
    "        # grab DAPI image (first channel) from this round\n",
    "        moving = imread(filepaths[1])\n",
    "            \n",
    "        # get distance, leave methods parameter as None to not apply a registration\n",
    "        images, kpts, distances = register_images(moving, target, methods=['linear'])\n",
    "                     \n",
    "        df = df.append({\n",
    "            'Moving': f'R{_round}',\n",
    "            'Strategy': 'Linear; Keypoint (OHSU; DAPI)', \n",
    "            'Distance': distances[0],\n",
    "            'Target': f'R{target_round}',\n",
    "            'Channel': 'DAPI',\n",
    "            'Dataset': 'BrCa (OHSU)'\n",
    "        }, ignore_index=True)\n",
    "        \n",
    "# save to CSV file, append a version number so we can load intemediate results\n",
    "df.to_csv(save_path + '1.csv', index=False)"
   ]
  },
  {
   "cell_type": "markdown",
   "metadata": {},
   "source": [
    "## Distances with unregistered images before / after linear registration\n",
    "This will allow comparison of linear registration with DAPI channel vs OHSU method. The distances with the unregistered images will give a comparable measure of how much improvement there was."
   ]
  },
  {
   "cell_type": "code",
   "execution_count": null,
   "metadata": {},
   "outputs": [],
   "source": [
    "# load CSV saved in last section\n",
    "df = read_csv(save_path + '1.csv')\n",
    "\n",
    "target_round = 1\n",
    "\n",
    "# target should be round 1 and DAPI channel (first channel)\n",
    "target = imread(filepaths_unregistered[target_round][1])\n",
    "\n",
    "# go through the unregistered filepaths\n",
    "for _round in tqdm(filepaths_unregistered.keys()):\n",
    "    # skip round 0 (unlabeled round) and 1 (target round)\n",
    "    if _round not in [0, 1]:\n",
    "        # grab DAPI image (first channel) from this round\n",
    "        moving = imread(filepaths_unregistered[_round][1])\n",
    "        \n",
    "        images, kpts, distances = register_images(moving, target, ['none', 'linear'])\n",
    "                \n",
    "        df = df.append({\n",
    "            'Moving': f'R{_round}', \n",
    "            'Strategy': 'Unaligned (DAPI)', \n",
    "            'Distance': distances[0],\n",
    "            'Target': f'R{target_round}', \n",
    "            'Channel': 'DAPI', \n",
    "            'Dataset': 'BrCa (OHSU)'\n",
    "        }, ignore_index=True)\n",
    "        \n",
    "        df = df.append({\n",
    "            'Moving': f'R{_round}', \n",
    "            'Strategy': 'Linear; Keypoint (DAPI)', \n",
    "            'Distance': distances[1],\n",
    "            'Target': f'R{target_round}', \n",
    "            'Channel': 'DAPI', \n",
    "            'Dataset': 'BrCa (OHSU)'\n",
    "        }, ignore_index=True)\n",
    "        \n",
    "# save to CSV file, append a version number so we can load intemediate results\n",
    "df.to_csv(save_path + '2.csv', index=False)"
   ]
  },
  {
   "cell_type": "markdown",
   "metadata": {},
   "source": [
    "## Distances with channel 2 (autoflourescence)\n",
    "Instead of using channel 1 (which is DAPI and save in each round / but shifted unpredictably) using channel 2 in each round. This is hypothesized to use autoflourescence to register images instead of other co-occuring features. Note that this could potentially fail because, unlike DAPI, the channels may not have a lot of usable co-occuring features. If this fails then leave entry blank.\n",
    "\n",
    "As with the linear DAPI case, calculate distances with and without registration."
   ]
  },
  {
   "cell_type": "code",
   "execution_count": null,
   "metadata": {},
   "outputs": [],
   "source": [
    "# load CSV saved in last section\n",
    "df = read_csv(save_path + '2.csv')\n",
    "\n",
    "target_round = 1\n",
    "\n",
    "# target should be round 1 and second channel\n",
    "target = imread(filepaths_unregistered[target_round][2])\n",
    "\n",
    "# go through the unregistered filepaths\n",
    "for _round in tqdm(filepaths_unregistered.keys()):\n",
    "    if _round not in [0, 1]:\n",
    "        # grab second channel image from this round\n",
    "        moving = imread(filepaths_unregistered[_round][2])\n",
    "        \n",
    "        # catch errors\n",
    "        try:\n",
    "            images, kpts, distances = register_images(moving, target, ['none', 'linear'])\n",
    "        except:\n",
    "            # if registering image failed then leave distances blank\n",
    "            distances = ['', '']\n",
    "                \n",
    "        df = df.append({\n",
    "            'Moving': f'R{_round}',\n",
    "            'Strategy': 'Unaligned (AF)', \n",
    "            'Distance': distances[0],\n",
    "            'Target': f'R{target_round}', \n",
    "            'Channel': 'AF', \n",
    "            'Dataset': 'BrCa (OHSU)'\n",
    "        }, ignore_index=True)\n",
    "        \n",
    "        df = df.append({\n",
    "            'Moving': f'R{_round}',\n",
    "            'Strategy': 'Linear; Keypoint (AF)', \n",
    "            'Distance': distances[1],\n",
    "            'Target': f'R{target_round}', \n",
    "            'Channel': 'AF', \n",
    "            'Dataset': 'BrCa (OHSU)'\n",
    "        }, ignore_index=True)\n",
    "        \n",
    "# save to CSV file, append a version number so we can load intemediate results\n",
    "df.to_csv(save_path + '3.csv', index=False)"
   ]
  },
  {
   "cell_type": "markdown",
   "metadata": {},
   "source": [
    "## Non-rigid Alignment on AF\n",
    "First run hackathon_nr_registration.py to create the registered images. This code below simply uses keypoint detection on the registered DAPI channels to measure TRE distances."
   ]
  },
  {
   "cell_type": "code",
   "execution_count": 10,
   "metadata": {},
   "outputs": [
    {
     "data": {
      "application/vnd.jupyter.widget-view+json": {
       "model_id": "b2dbb66ac1f54f25b46391e2cdac161f",
       "version_major": 2,
       "version_minor": 0
      },
      "text/plain": [
       "HBox(children=(FloatProgress(value=0.0, max=11.0), HTML(value='')))"
      ]
     },
     "metadata": {},
     "output_type": "display_data"
    },
    {
     "name": "stdout",
     "output_type": "stream",
     "text": [
      "\n"
     ]
    }
   ],
   "source": [
    "# load CSV saved in last section\n",
    "df = read_csv(save_path + '3.csv')\n",
    "\n",
    "target_round = 1\n",
    "\n",
    "filepaths_nlregistered = parse_tif_dir('/media/jc/NVME_SSD/SageBionetworks/normalBreast/registered_images/')\n",
    "\n",
    "# registering to round 1 DAPI channel\n",
    "target = imread(filepaths_unregistered[target_round][1])\n",
    "\n",
    "for _round in tqdm(filepaths_nlregistered.keys()):\n",
    "    if _round not in [0, 1]:\n",
    "        moving = imread(filepaths_nlregistered[_round][1])\n",
    "\n",
    "        images, kpts, distances = register_images(moving, target, methods=['none'])\n",
    "        \n",
    "        df = df.append({\n",
    "            'Moving': f'R{_round}',\n",
    "            'Strategy': 'Non-linear; Intensity (AF)',\n",
    "            'Distance': distances[0],\n",
    "            'Target': f'R{target_round}',\n",
    "            'Channel': 'AF',\n",
    "            'Dataset': 'BrCa (OHSU)'\n",
    "        }, ignore_index=True)\n",
    "        \n",
    "# save to CSV file, append a version number so we can load intemediate results\n",
    "df.sort_values('Strategy').to_csv(save_path + '4.csv', index=False)"
   ]
  },
  {
   "cell_type": "markdown",
   "metadata": {},
   "source": [
    "## Plot Comparison of Hackathon and Recreation"
   ]
  },
  {
   "cell_type": "code",
   "execution_count": 13,
   "metadata": {},
   "outputs": [
    {
     "data": {
      "image/png": "[encoded data removed]",
      "text/plain": [
       "<Figure size 1080x360 with 1 Axes>"
      ]
     },
     "metadata": {
      "needs_background": "light"
     },
     "output_type": "display_data"
    }
   ],
   "source": [
    "df_hackathon = read_csv('../Data_Files/hackathon2019_results.csv')\n",
    "df_hackathon['Category'] = ['Hackathon'] * df_hackathon.shape[0]\n",
    "\n",
    "df_recreation = read_csv(save_path + '4.csv')\n",
    "df_recreation['Category'] = ['Recreation'] * df_recreation.shape[0]\n",
    "\n",
    "df_combined = df_hackathon.append(df_recreation, ignore_index=True)\n",
    "\n",
    "# plot results in swarmplot, recreating slide 9 in presentation\n",
    "plt.figure(figsize=(15,5))\n",
    "ax = sns.swarmplot(data=df_combined, x='Strategy', y='Distance', hue='Category',\n",
    "              order=['Unaligned (DAPI)', 'Linear; Keypoint (OHSU; DAPI)', 'Linear; Keypoint (DAPI)',\n",
    "                     'Unaligned (AF)', 'Linear; Keypoint (AF)', 'Non-linear; Intensity (AF)',\n",
    "                     ], s=7)\n",
    "ax.set_yscale('log')\n",
    "_max, _min = max(df_combined.Distance), min(df_combined.Distance)\n",
    "diff = _max - _min\n",
    "ax.set_ylim([_min -0.5*_min, _max + 0.5*_max])\n",
    "plt.ylabel('TRE', fontsize=18)\n",
    "\n",
    "plt.yticks(fontsize=16)\n",
    "plt.xticks(rotation=20, fontsize=12)\n",
    "plt.legend(fontsize=14)\n",
    "plt.xlabel('')\n",
    "\n",
    "plt.tight_layout()\n",
    "# plt.savefig('hackathonRecreationResults.png', dpi=300)\n",
    "plt.show()"
   ]
  }
 ],
 "metadata": {
  "kernelspec": {
   "display_name": "Python 3",
   "language": "python",
   "name": "python3"
  },
  "language_info": {
   "codemirror_mode": {
    "name": "ipython",
    "version": 3
   },
   "file_extension": ".py",
   "mimetype": "text/x-python",
   "name": "python",
   "nbconvert_exporter": "python",
   "pygments_lexer": "ipython3",
   "version": "3.7.7"
  }
 },
 "nbformat": 4,
 "nbformat_minor": 4
}
