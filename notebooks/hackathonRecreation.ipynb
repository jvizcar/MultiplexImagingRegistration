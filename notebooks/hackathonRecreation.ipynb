{
 "cells": [
  {
   "cell_type": "markdown",
   "metadata": {},
   "source": [
    "# Hackathon Recreation\n",
    "Updated on 2020-6-16 Tuesday\n",
    "\n",
    "The notebook attempts to recreate the hackathon results - results are saved into to csv file.\n",
    "\n",
    "```\n",
    "from IPython.display import display, HTML\n",
    "display(HTML(df.sort_values('Strategy').to_html()))\n",
    "```"
   ]
  },
  {
   "cell_type": "code",
   "execution_count": 1,
   "metadata": {},
   "outputs": [],
   "source": [
    "%load_ext autoreload\n",
    "%autoreload 2"
   ]
  },
  {
   "cell_type": "code",
   "execution_count": 2,
   "metadata": {},
   "outputs": [],
   "source": [
    "import sys\n",
    "sys.path.append('..')\n",
    "\n",
    "from modules.utils import parse_tif_dir\n",
    "from modules.registration import register_images\n",
    "import modules.nonrigid_registration as nr\n",
    "\n",
    "import numpy as np\n",
    "import matplotlib.pyplot as plt\n",
    "import cv2\n",
    "from imageio import imread\n",
    "from pandas import read_csv, DataFrame\n",
    "from tqdm.notebook import tqdm\n",
    "import seaborn as sns\n",
    "import random\n",
    "from skimage import transform"
   ]
  },
  {
   "cell_type": "code",
   "execution_count": 14,
   "metadata": {},
   "outputs": [],
   "source": [
    "# parse image data directories into dict form\n",
    "filepaths_registered = parse_tif_dir('/media/jc/NVME_SSD/SageBionetworks/normalBreastRegistered/')\n",
    "filepaths_unregistered = parse_tif_dir('/media/jc/NVME_SSD/SageBionetworks/normalBreast/')\n",
    "\n",
    "# save path\n",
    "save_path = '../Data_Files/recreation_results'"
   ]
  },
  {
   "cell_type": "markdown",
   "metadata": {},
   "source": [
    "## OHSU Registration Distances\n",
    "OHSU provided already registered images, we can estimate the distance between the rounds by using the DAPI channel in each round. Note that these images are already registered so make sure not to try registering them again."
   ]
  },
  {
   "cell_type": "code",
   "execution_count": 15,
   "metadata": {},
   "outputs": [
    {
     "data": {
      "application/vnd.jupyter.widget-view+json": {
       "model_id": "39a45ede09174caa881d876a29baed2e",
       "version_major": 2,
       "version_minor": 0
      },
      "text/plain": [
       "HBox(children=(FloatProgress(value=0.0, max=11.0), HTML(value='')))"
      ]
     },
     "metadata": {},
     "output_type": "display_data"
    },
    {
     "name": "stdout",
     "output_type": "stream",
     "text": [
      "\n"
     ]
    }
   ],
   "source": [
    "# header for DataFrame used to create output CSV file\n",
    "df = DataFrame(columns=['Moving', 'Strategy', 'Distance', 'Target', 'Channel', 'Dataset'])\n",
    "\n",
    "target_round = 1\n",
    "\n",
    "# target should be round 1 and DAPI channel (first channel)\n",
    "target = imread(filepaths_registered[target_round][1])\n",
    "\n",
    "# go through registered filepaths\n",
    "for _round, filepaths in tqdm(filepaths_registered.items()):\n",
    "    # skip round 0 (unlabeled round) and 1 (target round)\n",
    "    if _round not in [0, 1]:\n",
    "        # grab DAPI image (first channel) from this round\n",
    "        moving = imread(filepaths[1])\n",
    "            \n",
    "        # get distance, leave methods parameter as None to not apply a registration\n",
    "        images, kpts, distances = register_images(moving, target, methods=['linear'])\n",
    "                     \n",
    "        df = df.append({\n",
    "            'Moving': f'R{_round}',\n",
    "            'Strategy': 'Linear; Keypoint (OHSU; DAPI)', \n",
    "            'Distance': distances[0],\n",
    "            'Target': f'R{target_round}',\n",
    "            'Channel': 'DAPI',\n",
    "            'Dataset': 'BrCa (OHSU)'\n",
    "        }, ignore_index=True)\n",
    "        \n",
    "# save to CSV file, append a version number so we can load intemediate results\n",
    "df.to_csv(save_path + '1.csv', index=False)"
   ]
  },
  {
   "cell_type": "markdown",
   "metadata": {},
   "source": [
    "## Distances with unregistered images before / after linear registration\n",
    "This will allow comparison of linear registration with DAPI channel vs OHSU method. The distances with the unregistered images will give a comparable measure of how much improvement there was."
   ]
  },
  {
   "cell_type": "code",
   "execution_count": 16,
   "metadata": {},
   "outputs": [
    {
     "data": {
      "application/vnd.jupyter.widget-view+json": {
       "model_id": "ad3ec2b01bf1483ca3942da465419489",
       "version_major": 2,
       "version_minor": 0
      },
      "text/plain": [
       "HBox(children=(FloatProgress(value=0.0, max=12.0), HTML(value='')))"
      ]
     },
     "metadata": {},
     "output_type": "display_data"
    },
    {
     "name": "stdout",
     "output_type": "stream",
     "text": [
      "\n"
     ]
    }
   ],
   "source": [
    "# load CSV saved in last section\n",
    "df = read_csv(save_path + '1.csv')\n",
    "\n",
    "target_round = 1\n",
    "\n",
    "# target should be round 1 and DAPI channel (first channel)\n",
    "target = imread(filepaths_unregistered[target_round][1])\n",
    "\n",
    "# go through the unregistered filepaths\n",
    "for _round in tqdm(filepaths_unregistered.keys()):\n",
    "    # skip round 0 (unlabeled round) and 1 (target round)\n",
    "    if _round not in [0, 1]:\n",
    "        # grab DAPI image (first channel) from this round\n",
    "        moving = imread(filepaths_unregistered[_round][1])\n",
    "        \n",
    "        images, kpts, distances = register_images(moving, target, ['none', 'linear'])\n",
    "                \n",
    "        df = df.append({\n",
    "            'Moving': f'R{_round}', \n",
    "            'Strategy': 'Unaligned (DAPI)', \n",
    "            'Distance': distances[0],\n",
    "            'Target': f'R{target_round}', \n",
    "            'Channel': 'DAPI', \n",
    "            'Dataset': 'BrCa (OHSU)'\n",
    "        }, ignore_index=True)\n",
    "        \n",
    "        df = df.append({\n",
    "            'Moving': f'R{_round}', \n",
    "            'Strategy': 'Linear; Keypoint (DAPI)', \n",
    "            'Distance': distances[1],\n",
    "            'Target': f'R{target_round}', \n",
    "            'Channel': 'DAPI', \n",
    "            'Dataset': 'BrCa (OHSU)'\n",
    "        }, ignore_index=True)\n",
    "        \n",
    "# save to CSV file, append a version number so we can load intemediate results\n",
    "df.to_csv(save_path + '2.csv', index=False)"
   ]
  },
  {
   "cell_type": "markdown",
   "metadata": {},
   "source": [
    "## Distances with channel 2 (autoflourescence)\n",
    "Instead of using channel 1 (which is DAPI and save in each round / but shifted unpredictably) using channel 2 in each round. This is hypothesized to use autoflourescence to register images instead of other co-occuring features. Note that this could potentially fail because, unlike DAPI, the channels may not have a lot of usable co-occuring features. If this fails then leave entry blank.\n",
    "\n",
    "As with the linear DAPI case, calculate distances with and without registration."
   ]
  },
  {
   "cell_type": "code",
   "execution_count": 17,
   "metadata": {},
   "outputs": [
    {
     "data": {
      "application/vnd.jupyter.widget-view+json": {
       "model_id": "e1a5bc2046584fee9c5d26410d839801",
       "version_major": 2,
       "version_minor": 0
      },
      "text/plain": [
       "HBox(children=(FloatProgress(value=0.0, max=12.0), HTML(value='')))"
      ]
     },
     "metadata": {},
     "output_type": "display_data"
    },
    {
     "name": "stdout",
     "output_type": "stream",
     "text": [
      "\n"
     ]
    }
   ],
   "source": [
    "# load CSV saved in last section\n",
    "df = read_csv(save_path + '2.csv')\n",
    "\n",
    "target_round = 1\n",
    "\n",
    "# target should be round 1 and second channel\n",
    "target = imread(filepaths_unregistered[target_round][2])\n",
    "\n",
    "# go through the unregistered filepaths\n",
    "for _round in tqdm(filepaths_unregistered.keys()):\n",
    "    if _round not in [0, 1]:\n",
    "        # grab second channel image from this round\n",
    "        moving = imread(filepaths_unregistered[_round][2])\n",
    "        \n",
    "        # catch errors\n",
    "        try:\n",
    "            images, kpts, distances = register_images(moving, target, ['none', 'linear'])\n",
    "        except:\n",
    "            # if registering image failed then leave distances blank\n",
    "            distances = ['', '']\n",
    "                \n",
    "        df = df.append({\n",
    "            'Moving': f'R{_round}',\n",
    "            'Strategy': 'Unaligned (AF)', \n",
    "            'Distance': distances[0],\n",
    "            'Target': f'R{target_round}', \n",
    "            'Channel': 'AF', \n",
    "            'Dataset': 'BrCa (OHSU)'\n",
    "        }, ignore_index=True)\n",
    "        \n",
    "        df = df.append({\n",
    "            'Moving': f'R{_round}',\n",
    "            'Strategy': 'Linear; Keypoint (AF)', \n",
    "            'Distance': distances[1],\n",
    "            'Target': f'R{target_round}', \n",
    "            'Channel': 'AF', \n",
    "            'Dataset': 'BrCa (OHSU)'\n",
    "        }, ignore_index=True)\n",
    "        \n",
    "# save to CSV file, append a version number so we can load intemediate results\n",
    "df.to_csv(save_path + '3.csv', index=False)"
   ]
  },
  {
   "cell_type": "markdown",
   "metadata": {},
   "source": [
    "## Non-rigid Alignment on AF\n",
    "Use non-rigid registration as done in the Hackathon using the AF channel."
   ]
  },
  {
   "cell_type": "code",
   "execution_count": null,
   "metadata": {},
   "outputs": [],
   "source": [
    "# create channel signal masks\n",
    "from skimage import io\n",
    "from os import makedirs\n",
    "\n",
    "target = imread(filepaths_unregistered[1][2])\n",
    "moving = imread(filepaths_unregistered[2][2])\n",
    "\n",
    "src_dir = \"/media/jc/NVME_SSD/SageBionetworks/normalBreast/\"\n",
    "dst_dir = '/media/jc/NVME_SSD/SageBionetworks/normalBreast_masks/'\n",
    "\n",
    "makedirs(dst_dir, exist_ok=True)\n",
    "\n",
    "for i in range(1, 12):\n",
    "    print('mask:', i)\n",
    "    # get filepaths for this round, excluding channel 1 (DAPI channel)\n",
    "    round_f_list = nr.get_imgs_in_round(src_dir, i)\n",
    "    \n",
    "    signal_mask = nr.get_tissue_mask(round_f_list)[0]\n",
    "    \n",
    "    # save output masks\n",
    "    io.imsave(\"\".join([dst_dir, str(i).zfill(2), \"_tissue_mask.png\"]), signal_mask)"
   ]
  },
  {
   "cell_type": "code",
   "execution_count": 27,
   "metadata": {
    "scrolled": true
   },
   "outputs": [
    {
     "name": "stdout",
     "output_type": "stream",
     "text": [
      "[PosixPath('/media/jc/NVME_SSD/SageBionetworks/normalBreast/R10_LamB1.H3K4.ColIV.FoxP3_SMT130-4_2019_05_23__13_36__1860S-Scene-012_c2_ORG.tif'), PosixPath('/media/jc/NVME_SSD/SageBionetworks/normalBreast/R11_S100.PDL1.LamB2.CD3_SMT130-4_2019_05_24__14_11__1871S-Scene-012_c2_ORG.tif'), PosixPath('/media/jc/NVME_SSD/SageBionetworks/normalBreast/R2_CK5.HER2.ER.CD45_SMT130-4_2019_05_09__21_52__1654S-Scene-012_c2_ORG.tif'), PosixPath('/media/jc/NVME_SSD/SageBionetworks/normalBreast/R3_aSMA.CD68.CD4.Ecad_SMT130-4_2019_05_13__15_50__1718-Scene-012_c2_ORG.tif'), PosixPath('/media/jc/NVME_SSD/SageBionetworks/normalBreast/R4_Vimentin.AR.CD31.CD44_SMT130-4_2019_05_14__11_40__1731S-Scene-012_c2_ORG.tif'), PosixPath('/media/jc/NVME_SSD/SageBionetworks/normalBreast/R5_CK7.CK14.Ki67.PgR_SMT130-4_2019_05_15__14_21__1754S-Scene-012_c2_ORG.tif'), PosixPath('/media/jc/NVME_SSD/SageBionetworks/normalBreast/R6_pHH3.pS6.pERK.CD20_SMT130-4_2019_05_19__23_40__1797S-Scene-012_c2_ORG.tif'), PosixPath('/media/jc/NVME_SSD/SageBionetworks/normalBreast/R7_CK17.EGFR.pAKt.GRNZB_SMT130-4_2019_05_20__13_23__1814S-Scene-012_c2_ORG.tif'), PosixPath('/media/jc/NVME_SSD/SageBionetworks/normalBreast/R8_H3K27.PDPN.gH2AX.ColI_SMT130-4_2019_05_21__13_55__1825S-Scene-012_c2_ORG.tif'), PosixPath('/media/jc/NVME_SSD/SageBionetworks/normalBreast/R9_CK8.cPARP.pRB.LamAC_SMT130-4_2019_05_22__13_19__1834S-Scene-012_c2_ORG.tif')]\n",
      "[PosixPath('/media/jc/NVME_SSD/SageBionetworks/normalBreast/R10_LamB1.H3K4.ColIV.FoxP3_SMT130-4_2019_05_23__13_36__1860S-Scene-012_c2_ORG.tif'), PosixPath('/media/jc/NVME_SSD/SageBionetworks/normalBreast/R11_S100.PDL1.LamB2.CD3_SMT130-4_2019_05_24__14_11__1871S-Scene-012_c2_ORG.tif'), PosixPath('/media/jc/NVME_SSD/SageBionetworks/normalBreast/R2_CK5.HER2.ER.CD45_SMT130-4_2019_05_09__21_52__1654S-Scene-012_c2_ORG.tif'), PosixPath('/media/jc/NVME_SSD/SageBionetworks/normalBreast/R3_aSMA.CD68.CD4.Ecad_SMT130-4_2019_05_13__15_50__1718-Scene-012_c2_ORG.tif'), PosixPath('/media/jc/NVME_SSD/SageBionetworks/normalBreast/R4_Vimentin.AR.CD31.CD44_SMT130-4_2019_05_14__11_40__1731S-Scene-012_c2_ORG.tif'), PosixPath('/media/jc/NVME_SSD/SageBionetworks/normalBreast/R5_CK7.CK14.Ki67.PgR_SMT130-4_2019_05_15__14_21__1754S-Scene-012_c2_ORG.tif'), PosixPath('/media/jc/NVME_SSD/SageBionetworks/normalBreast/R6_pHH3.pS6.pERK.CD20_SMT130-4_2019_05_19__23_40__1797S-Scene-012_c2_ORG.tif'), PosixPath('/media/jc/NVME_SSD/SageBionetworks/normalBreast/R7_CK17.EGFR.pAKt.GRNZB_SMT130-4_2019_05_20__13_23__1814S-Scene-012_c2_ORG.tif'), PosixPath('/media/jc/NVME_SSD/SageBionetworks/normalBreast/R8_H3K27.PDPN.gH2AX.ColI_SMT130-4_2019_05_21__13_55__1825S-Scene-012_c2_ORG.tif'), PosixPath('/media/jc/NVME_SSD/SageBionetworks/normalBreast/R9_CK8.cPARP.pRB.LamAC_SMT130-4_2019_05_22__13_19__1834S-Scene-012_c2_ORG.tif')]\n",
      "R10_LamB1.H3K4.ColIV.FoxP3_SMT130-4_2019_05_23__13_36__1860S-Scene-012_c2_ORG.tif \n",
      "\n",
      "reading image from file\n",
      "R11_S100.PDL1.LamB2.CD3_SMT130-4_2019_05_24__14_11__1871S-Scene-012_c2_ORG.tif \n",
      "\n",
      "reading image from file\n",
      "R2_CK5.HER2.ER.CD45_SMT130-4_2019_05_09__21_52__1654S-Scene-012_c2_ORG.tif \n",
      "\n",
      "reading image from file\n",
      "R3_aSMA.CD68.CD4.Ecad_SMT130-4_2019_05_13__15_50__1718-Scene-012_c2_ORG.tif \n",
      "\n",
      "reading image from file\n",
      "R4_Vimentin.AR.CD31.CD44_SMT130-4_2019_05_14__11_40__1731S-Scene-012_c2_ORG.tif \n",
      "\n",
      "reading image from file\n",
      "R5_CK7.CK14.Ki67.PgR_SMT130-4_2019_05_15__14_21__1754S-Scene-012_c2_ORG.tif \n",
      "\n",
      "reading image from file\n",
      "R6_pHH3.pS6.pERK.CD20_SMT130-4_2019_05_19__23_40__1797S-Scene-012_c2_ORG.tif \n",
      "\n",
      "reading image from file\n",
      "R7_CK17.EGFR.pAKt.GRNZB_SMT130-4_2019_05_20__13_23__1814S-Scene-012_c2_ORG.tif \n",
      "\n",
      "reading image from file\n",
      "R8_H3K27.PDPN.gH2AX.ColI_SMT130-4_2019_05_21__13_55__1825S-Scene-012_c2_ORG.tif \n",
      "\n",
      "reading image from file\n",
      "R9_CK8.cPARP.pRB.LamAC_SMT130-4_2019_05_22__13_19__1834S-Scene-012_c2_ORG.tif \n",
      "\n",
      "reading image from file\n"
     ]
    }
   ],
   "source": [
    "# non-rigid registration\n",
    "from pathlib import Path\n",
    "import re\n",
    "import SimpleITK as sitk\n",
    "\n",
    "# object handles on the directories with images / masks\n",
    "datapath = Path('/media/jc/NVME_SSD/SageBionetworks/normalBreast/')\n",
    "outpath = Path('/media/jc/NVME_SSD/SageBionetworks/normalBreast_masks/')\n",
    "\n",
    "# grab all channel 2 images, exclude quench rounds and round 0\n",
    "ims = []\n",
    "for filepath in datapath.glob('*_c2_*'):\n",
    "    if not re.search('R\\d{1,2}Q|R0_', str(filepath)):\n",
    "        if re.search('R1_', str(filepath)):\n",
    "            # target is round 1\n",
    "            target = filepath\n",
    "        else:\n",
    "            ims.append(filepath)\n",
    "ims = sorted(ims)\n",
    "        \n",
    "# registration models\n",
    "reg_models = [\n",
    "    '../registration/elx_reg_params/rigid_largersteps.txt',\n",
    "    '../registration/elx_reg_params/nl.txt'\n",
    "]\n",
    "\n",
    "for idx, image in enumerate(ims):\n",
    "    filename = str(image).split('/')[-1]\n",
    "    print(str(image).split('/')[-1], '\\n')\n",
    "\n",
    "    # directory is placed in outpath under the name of the image (no ext)\n",
    "    out_folder = outpath / image.stem\n",
    "\n",
    "    # create the directory if it does not exist\n",
    "    if out_folder.is_dir() is False:\n",
    "        out_folder.mkdir()\n",
    "\n",
    "    _ = nr.register_2D_images(\n",
    "        str(image),\n",
    "        0.2645833333,\n",
    "        str(target),\n",
    "        0.2645833333,\n",
    "        reg_models,\n",
    "        str(out_folder),\n",
    "    )\n",
    "\n",
    "    rig_tform = sorted(Path(out_folder).glob('*.0.txt'))\n",
    "    nl_tform = sorted(Path(out_folder).glob('*.1.txt'))\n",
    "    tform_list = [str(rig_tform[0]), str(nl_tform[0])]\n",
    "    \n",
    "    # transform images should be done on DAPI channel\n",
    "    dapi_filepath = str(image).replace('_c2_', '_c1_')\n",
    "    im = nr.transform_2D_image(\n",
    "            dapi_filepath,\n",
    "            0.2645833333,\n",
    "            tform_list,\n",
    "            im_output_fp='',\n",
    "            write_image=False\n",
    "    )\n",
    "\n",
    "    out_im_path = image.stem + '_registered.tiff'\n",
    "    sitk.WriteImage(im, str(out_folder / out_im_path), True)"
   ]
  },
  {
   "cell_type": "markdown",
   "metadata": {},
   "source": [
    "### NOTE - move all the registered images to the  normalBreast_nlRegistered Folder\n",
    "By default the images say channel 2 on the name even though they are channel 1 (this will in the future need to be cleaned up)."
   ]
  },
  {
   "cell_type": "code",
   "execution_count": 32,
   "metadata": {},
   "outputs": [
    {
     "data": {
      "application/vnd.jupyter.widget-view+json": {
       "model_id": "9681b7d32e6e44b79437dbde5ecab2b6",
       "version_major": 2,
       "version_minor": 0
      },
      "text/plain": [
       "HBox(children=(FloatProgress(value=0.0, max=11.0), HTML(value='')))"
      ]
     },
     "metadata": {},
     "output_type": "display_data"
    },
    {
     "name": "stdout",
     "output_type": "stream",
     "text": [
      "\n"
     ]
    }
   ],
   "source": [
    "# load CSV saved in last section\n",
    "df = read_csv(save_path + '3.csv')\n",
    "\n",
    "target_round = 1\n",
    "\n",
    "filepaths_nlregistered = parse_tif_dir('/media/jc/NVME_SSD/SageBionetworks/normalBreast_nlRegistered/')\n",
    "\n",
    "# registering to round 1 DAPI channel\n",
    "target = imread(filepaths_unregistered[target_round][1])\n",
    "\n",
    "for _round in tqdm(filepaths_nlregistered.keys()):\n",
    "    if _round not in [0, 1]:\n",
    "        moving = imread(filepaths_nlregistered[_round][1])\n",
    "#         \n",
    "#         try:\n",
    "        images, kpts, distances = register_images(moving, target, methods=['none'])\n",
    "#         except:\n",
    "#             errors = ['']\n",
    "        \n",
    "        df = df.append({\n",
    "            'Moving': f'R{_round}',\n",
    "            'Strategy': 'Non-linear; Intensity (AF)',\n",
    "            'Distance': distances[0],\n",
    "            'Target': f'R{target_round}',\n",
    "            'Channel': 'AF',\n",
    "            'Dataset': 'BrCa (OHSU)'\n",
    "        }, ignore_index=True)\n",
    "        \n",
    "# save to CSV file, append a version number so we can load intemediate results\n",
    "df.sort_values('Strategy').to_csv(save_path + '4.csv', index=False)"
   ]
  },
  {
   "cell_type": "markdown",
   "metadata": {},
   "source": [
    "## Plot Comparison of Hackathon and Recreation"
   ]
  },
  {
   "cell_type": "code",
   "execution_count": 39,
   "metadata": {},
   "outputs": [
    {
     "data": {
      "image/png": "[encoded data removed]",
      "text/plain": [
       "<Figure size 1080x360 with 1 Axes>"
      ]
     },
     "metadata": {
      "needs_background": "light"
     },
     "output_type": "display_data"
    }
   ],
   "source": [
    "df_hackathon = read_csv('../Data_Files/hackathon2019_results.csv')\n",
    "df_hackathon['Category'] = ['Hackathon'] * df_hackathon.shape[0]\n",
    "\n",
    "df_recreation = read_csv(save_path + '4.csv')\n",
    "df_recreation['Category'] = ['Recreation'] * df_recreation.shape[0]\n",
    "\n",
    "df_combined = df_hackathon.append(df_recreation, ignore_index=True)\n",
    "\n",
    "# plot results in swarmplot, recreating slide 9 in presentation\n",
    "plt.figure(figsize=(15,5))\n",
    "ax = sns.swarmplot(data=df_combined, x='Strategy', y='Distance', hue='Category',\n",
    "              order=['Unaligned (DAPI)', 'Linear; Keypoint (OHSU; DAPI)', 'Linear; Keypoint (DAPI)',\n",
    "                     'Unaligned (AF)', 'Linear; Keypoint (AF)', 'Non-linear; Intensity (AF)',\n",
    "                     ], s=7)\n",
    "ax.set_yscale('log')\n",
    "_max, _min = max(df_combined.Distance), min(df_combined.Distance)\n",
    "diff = _max - _min\n",
    "ax.set_ylim([_min -0.5*_min, _max + 0.5*_max])\n",
    "plt.ylabel('TRE', fontsize=18)\n",
    "\n",
    "plt.yticks(fontsize=16)\n",
    "plt.xticks(rotation=20, fontsize=12)\n",
    "plt.legend(fontsize=14)\n",
    "plt.xlabel('')\n",
    "\n",
    "plt.tight_layout()\n",
    "plt.savefig('hackathonRecreationResults.png', dpi=300)\n",
    "plt.show()"
   ]
  },
  {
   "cell_type": "code",
   "execution_count": null,
   "metadata": {},
   "outputs": [],
   "source": [
    "df.sort_values('Strategy').to_csv(save_path, index=False)"
   ]
  }
 ],
 "metadata": {
  "kernelspec": {
   "display_name": "Python 3",
   "language": "python",
   "name": "python3"
  },
  "language_info": {
   "codemirror_mode": {
    "name": "ipython",
    "version": 3
   },
   "file_extension": ".py",
   "mimetype": "text/x-python",
   "name": "python",
   "nbconvert_exporter": "python",
   "pygments_lexer": "ipython3",
   "version": "3.7.7"
  }
 },
 "nbformat": 4,
 "nbformat_minor": 4
}
