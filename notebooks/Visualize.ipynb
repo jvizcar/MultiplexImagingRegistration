{
 "cells": [
  {
   "cell_type": "markdown",
   "metadata": {},
   "source": [
    "# Visualize\n",
    "Updated - 16 Nov. 2020\n",
    "\n",
    "Simple notebook for visualizing the different rounds / channels in a data tif directories."
   ]
  },
  {
   "cell_type": "code",
   "execution_count": 1,
   "metadata": {},
   "outputs": [],
   "source": [
    "%load_ext autoreload\n",
    "%autoreload 2"
   ]
  },
  {
   "cell_type": "code",
   "execution_count": 2,
   "metadata": {},
   "outputs": [],
   "source": [
    "import sys\n",
    "sys.path.append('..')\n",
    "\n",
    "from mpleximreg import viz"
   ]
  },
  {
   "cell_type": "code",
   "execution_count": 4,
   "metadata": {},
   "outputs": [
    {
     "data": {
      "application/vnd.jupyter.widget-view+json": {
       "model_id": "5763111e3a8b436b9391f90d73d520fe",
       "version_major": 2,
       "version_minor": 0
      },
      "text/plain": [
       "interactive(children=(Dropdown(description='Dir', options=('/data/brca_unregistered_tifs/', '/data/brca_rigidr…"
      ]
     },
     "metadata": {},
     "output_type": "display_data"
    }
   ],
   "source": [
    "# specify the directory to read\n",
    "tiff_dirs = [\n",
    "    '/data/brca_unregistered_tifs/',\n",
    "    '/data/brca_rigidreg_tifs/',\n",
    "    '/data/brca_nonrigidreg_tifs/',\n",
    "    '/data/brca_nonrigidreg_ch3_tifs/',\n",
    "    '/data/brca_nonrigidreg_ch4_tifs/',\n",
    "    '/data/brca_nonrigidreg_ch5_tifs/'\n",
    "]\n",
    "\n",
    "viz.interact_tif_dirs(tiff_dirs)"
   ]
  },
  {
   "cell_type": "code",
   "execution_count": 8,
   "metadata": {},
   "outputs": [
    {
     "data": {
      "application/vnd.jupyter.widget-view+json": {
       "model_id": "be622ed607934013ba640c0261be1091",
       "version_major": 2,
       "version_minor": 0
      },
      "text/plain": [
       "interactive(children=(Dropdown(description='Dir', options=('/data/brca_unregistered_tifs/', '/data/hcc1143_unr…"
      ]
     },
     "metadata": {},
     "output_type": "display_data"
    }
   ],
   "source": [
    "# specify the directory to read\n",
    "tiff_dirs = [\n",
    "    '/data/brca_unregistered_tifs/',\n",
    "    '/data/hcc1143_unregistered_tifs/',\n",
    "    '/data/tonsil_unregistered_tifs/',\n",
    "    '/data/hcc1143_backgroundreg_tifs/',\n",
    "    '/data/brca_cropped_unregistered_tifs/'\n",
    "]\n",
    "\n",
    "viz.interact_tif_dirs(tiff_dirs)"
   ]
  }
 ],
 "metadata": {
  "kernelspec": {
   "display_name": "Python 3",
   "language": "python",
   "name": "python3"
  },
  "language_info": {
   "codemirror_mode": {
    "name": "ipython",
    "version": 3
   },
   "file_extension": ".py",
   "mimetype": "text/x-python",
   "name": "python",
   "nbconvert_exporter": "python",
   "pygments_lexer": "ipython3",
   "version": "3.8.4"
  }
 },
 "nbformat": 4,
 "nbformat_minor": 4
}
