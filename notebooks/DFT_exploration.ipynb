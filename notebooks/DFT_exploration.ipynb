{
 "cells": [
  {
   "cell_type": "markdown",
   "metadata": {},
   "source": [
    "# Digital Fourier Transform (DFT) exploration\n",
    "Udpated - 6 Nov. 2020\n",
    "\n",
    "**NOTE** This code is only used as exploration, it is not part of any of the hackathon analysis or figure generation.\n",
    "\n",
    "Exploring using DFT on the multiplex images for potential registration downstream.\n",
    "\n",
    "High pass filter is edge detection --> image returns edges\n",
    "\n",
    "Low pass filter is a detail detection but losses edges --< image returns the original image but blurred"
   ]
  },
  {
   "cell_type": "code",
   "execution_count": null,
   "metadata": {},
   "outputs": [],
   "source": [
    "import sys\n",
    "sys.path.append('..')\n",
    "\n",
    "from mpleximreg.utils import parse_tif_dir, normalize_image\n",
    "import cv2\n",
    "from imageio import imread\n",
    "import matplotlib.pyplot as plt\n",
    "from matplotlib import rcParams\n",
    "import numpy as np\n",
    "\n",
    "rcParams['figure.figsize'] = (10, 10)"
   ]
  },
  {
   "cell_type": "code",
   "execution_count": null,
   "metadata": {},
   "outputs": [],
   "source": [
    "# get the filepaths to the images to use\n",
    "filepaths = parse_tif_dir('/data/breastCancer/', quench=True)\n",
    "\n",
    "# select the DAPI image, channel 2 image, and quench image to look at\n",
    "dapi_im = normalize_image(imread(filepaths[1][1]))\n",
    "ch2_im = normalize_image(imread(filepaths[1][2]))\n",
    "quench_im = normalize_image(imread(filepaths['5Q'][1]))"
   ]
  },
  {
   "cell_type": "code",
   "execution_count": null,
   "metadata": {},
   "outputs": [],
   "source": [
    "# calculate the fft of all three images and view\n",
    "def calculate_fft(im):\n",
    "    dft = cv2.dft(np.float32(im),flags = cv2.DFT_COMPLEX_OUTPUT)\n",
    "    dft_shift = np.fft.fftshift(dft)\n",
    "    magnitude_spectrum = 20*np.log(cv2.magnitude(dft_shift[:,:,0],dft_shift[:,:,1]))\n",
    "    return dft_shift, magnitude_spectrum\n",
    "\n",
    "\n",
    "def lp_filter(img, threshold=30):\n",
    "    # blurs images\n",
    "    dft = cv2.dft(np.float32(img),flags = cv2.DFT_COMPLEX_OUTPUT)\n",
    "    dft_shift = np.fft.fftshift(dft)\n",
    "    \n",
    "    rows, cols = img.shape\n",
    "    crow,ccol = rows//2 , cols//2\n",
    "\n",
    "    # create a mask first, center square is 1, remaining all zeros\n",
    "    mask = np.zeros((rows,cols,2),np.uint8)\n",
    "    mask[crow-threshold:crow+threshold, ccol-threshold:ccol+threshold] = 1\n",
    "\n",
    "    # apply mask and inverse DFT\n",
    "    fshift = dft_shift*mask\n",
    "    f_ishift = np.fft.ifftshift(fshift)\n",
    "    img_back = cv2.idft(f_ishift)\n",
    "    img_back = cv2.magnitude(img_back[:,:,0],img_back[:,:,1])\n",
    "    return img_back\n",
    "\n",
    "\n",
    "def hp_filter(img, threshold=30):\n",
    "    # edge detection\n",
    "    f = np.fft.fft2(img)\n",
    "    fshift = np.fft.fftshift(f)\n",
    "    \n",
    "    rows, cols = img.shape\n",
    "    crow,ccol = rows//2 , cols//2\n",
    "    \n",
    "    fshift[crow-threshold:crow+threshold, ccol-threshold:ccol+threshold] = 0\n",
    "    f_ishift = np.fft.ifftshift(fshift)\n",
    "    img_back = np.fft.ifft2(f_ishift)\n",
    "    img_back = np.abs(img_back)\n",
    "    return img_back"
   ]
  },
  {
   "cell_type": "code",
   "execution_count": null,
   "metadata": {},
   "outputs": [],
   "source": [
    "# display the raw images\n",
    "fig, ax = plt.subplots(ncols=3, figsize=(20,10))\n",
    "ax[0].imshow(dapi_im, cmap='gray')\n",
    "ax[0].set_title('DAPI', fontsize=18)\n",
    "ax[1].imshow(ch2_im, cmap='gray')\n",
    "ax[1].set_title('Ch. 2', fontsize=18)\n",
    "ax[2].imshow(quench_im, cmap='gray')\n",
    "ax[2].set_title('Ch. 0', fontsize=18)\n",
    "plt.show()"
   ]
  },
  {
   "cell_type": "markdown",
   "metadata": {},
   "source": [
    "## Low Pass filtering -- blurring images"
   ]
  },
  {
   "cell_type": "code",
   "execution_count": null,
   "metadata": {},
   "outputs": [],
   "source": [
    "shift = 30\n",
    "dapi_filtered = lp_filter(dapi_im, threshold=shift)\n",
    "ch2_filtered = lp_filter(ch2_im, threshold=shift)\n",
    "quench_filtered = lp_filter(quench_im, threshold=shift)\n",
    "\n",
    "fig, ax = plt.subplots(ncols=3, figsize=(15,10))\n",
    "ax[0].imshow(dapi_filtered, cmap='gray')\n",
    "ax[1].imshow(ch2_filtered, cmap='gray')\n",
    "ax[2].imshow(quench_filtered, cmap='gray')\n",
    "plt.show()"
   ]
  },
  {
   "cell_type": "code",
   "execution_count": null,
   "metadata": {},
   "outputs": [],
   "source": [
    "shift = 40\n",
    "dapi_filtered = lp_filter(dapi_im, threshold=shift)\n",
    "ch2_filtered = lp_filter(ch2_im, threshold=shift)\n",
    "quench_filtered = lp_filter(quench_im, threshold=shift)\n",
    "\n",
    "fig, ax = plt.subplots(ncols=3, figsize=(15,10))\n",
    "ax[0].imshow(dapi_filtered, cmap='gray')\n",
    "ax[1].imshow(ch2_filtered, cmap='gray')\n",
    "ax[2].imshow(quench_filtered, cmap='gray')\n",
    "plt.show()"
   ]
  },
  {
   "cell_type": "code",
   "execution_count": null,
   "metadata": {},
   "outputs": [],
   "source": [
    "shift = 20\n",
    "dapi_filtered = lp_filter(dapi_im, threshold=shift)\n",
    "ch2_filtered = lp_filter(ch2_im, threshold=shift)\n",
    "quench_filtered = lp_filter(quench_im, threshold=shift)\n",
    "\n",
    "fig, ax = plt.subplots(ncols=3, figsize=(15,10))\n",
    "ax[0].imshow(dapi_filtered, cmap='gray')\n",
    "ax[1].imshow(ch2_filtered, cmap='gray')\n",
    "ax[2].imshow(quench_filtered, cmap='gray')\n",
    "plt.show()"
   ]
  },
  {
   "cell_type": "markdown",
   "metadata": {},
   "source": [
    "## High Pass filtering -- edge detection"
   ]
  },
  {
   "cell_type": "code",
   "execution_count": null,
   "metadata": {},
   "outputs": [],
   "source": [
    "shift = 40\n",
    "dapi_filtered = hp_filter(dapi_im, threshold=shift)\n",
    "ch2_filtered = hp_filter(ch2_im, threshold=shift)\n",
    "quench_filtered = hp_filter(quench_im, threshold=shift)\n",
    "\n",
    "fig, ax = plt.subplots(ncols=3, figsize=(15,10))\n",
    "ax[0].imshow(dapi_filtered, cmap='gray')\n",
    "ax[1].imshow(ch2_filtered, cmap='gray')\n",
    "ax[2].imshow(quench_filtered, cmap='gray')\n",
    "plt.show()"
   ]
  },
  {
   "cell_type": "code",
   "execution_count": null,
   "metadata": {},
   "outputs": [],
   "source": [
    "shift = 30\n",
    "dapi_filtered = hp_filter(dapi_im, threshold=shift)\n",
    "ch2_filtered = hp_filter(ch2_im, threshold=shift)\n",
    "quench_filtered = hp_filter(quench_im, threshold=shift)\n",
    "\n",
    "fig, ax = plt.subplots(ncols=3, figsize=(15,10))\n",
    "ax[0].imshow(dapi_filtered, cmap='gray')\n",
    "ax[1].imshow(ch2_filtered, cmap='gray')\n",
    "ax[2].imshow(quench_filtered, cmap='gray')\n",
    "plt.show()"
   ]
  },
  {
   "cell_type": "code",
   "execution_count": null,
   "metadata": {},
   "outputs": [],
   "source": [
    "shift = 60\n",
    "dapi_filtered = hp_filter(dapi_im, threshold=shift)\n",
    "ch2_filtered = hp_filter(ch2_im, threshold=shift)\n",
    "quench_filtered = hp_filter(quench_im, threshold=shift)\n",
    "\n",
    "fig, ax = plt.subplots(ncols=3, figsize=(15,10))\n",
    "ax[0].imshow(dapi_filtered, cmap='gray')\n",
    "ax[1].imshow(ch2_filtered, cmap='gray')\n",
    "ax[2].imshow(quench_filtered, cmap='gray')\n",
    "plt.show()"
   ]
  },
  {
   "cell_type": "code",
   "execution_count": null,
   "metadata": {},
   "outputs": [],
   "source": [
    "dapi_fft = calculate_fft(dapi_im)[1]\n",
    "ch2_fft = calculate_fft(ch2_im)[1]\n",
    "quench_fft = calculate_fft(quench_im)[1]\n",
    "\n",
    "fig, ax = plt.subplots(ncols=3, figsize=(15,10))\n",
    "ax[0].imshow(dapi_fft, cmap='gray')\n",
    "ax[1].imshow(ch2_fft, cmap='gray')\n",
    "ax[2].imshow(quench_fft, cmap='gray')\n",
    "plt.show()"
   ]
  }
 ],
 "metadata": {
  "kernelspec": {
   "display_name": "Python 3",
   "language": "python",
   "name": "python3"
  },
  "language_info": {
   "codemirror_mode": {
    "name": "ipython",
    "version": 3
   },
   "file_extension": ".py",
   "mimetype": "text/x-python",
   "name": "python",
   "nbconvert_exporter": "python",
   "pygments_lexer": "ipython3",
   "version": "3.7.3"
  }
 },
 "nbformat": 4,
 "nbformat_minor": 4
}
