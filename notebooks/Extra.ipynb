{
 "cells": [
  {
   "cell_type": "markdown",
   "metadata": {},
   "source": [
    "# Extra\n",
    "Updated - 2020-11-12\n",
    "\n",
    "Extra code used in this project that is kept for future reference."
   ]
  },
  {
   "cell_type": "code",
   "execution_count": 1,
   "metadata": {},
   "outputs": [],
   "source": [
    "%load_ext autoreload\n",
    "%autoreload 2"
   ]
  },
  {
   "cell_type": "code",
   "execution_count": 2,
   "metadata": {},
   "outputs": [],
   "source": [
    "import sys\n",
    "sys.path.append('..')\n",
    "\n",
    "from pandas import read_csv, DataFrame\n",
    "from mpleximreg import utils"
   ]
  },
  {
   "cell_type": "markdown",
   "metadata": {},
   "source": [
    "## Format hackathon csv file for plotting"
   ]
  },
  {
   "cell_type": "code",
   "execution_count": 3,
   "metadata": {},
   "outputs": [
    {
     "data": {
      "text/html": [
       "<div>\n",
       "<style scoped>\n",
       "    .dataframe tbody tr th:only-of-type {\n",
       "        vertical-align: middle;\n",
       "    }\n",
       "\n",
       "    .dataframe tbody tr th {\n",
       "        vertical-align: top;\n",
       "    }\n",
       "\n",
       "    .dataframe thead th {\n",
       "        text-align: right;\n",
       "    }\n",
       "</style>\n",
       "<table border=\"1\" class=\"dataframe\">\n",
       "  <thead>\n",
       "    <tr style=\"text-align: right;\">\n",
       "      <th></th>\n",
       "      <th>Moving</th>\n",
       "      <th>Strategy</th>\n",
       "      <th>Distance</th>\n",
       "      <th>Target</th>\n",
       "      <th>Channel</th>\n",
       "      <th>Dataset</th>\n",
       "    </tr>\n",
       "  </thead>\n",
       "  <tbody>\n",
       "    <tr>\n",
       "      <th>0</th>\n",
       "      <td>R2</td>\n",
       "      <td>Linear; Keypoint (OHSU; DAPI)</td>\n",
       "      <td>0.000105</td>\n",
       "      <td>R1</td>\n",
       "      <td>DAPI</td>\n",
       "      <td>BrCa (OHSU)</td>\n",
       "    </tr>\n",
       "    <tr>\n",
       "      <th>1</th>\n",
       "      <td>R3</td>\n",
       "      <td>Linear; Keypoint (OHSU; DAPI)</td>\n",
       "      <td>0.000123</td>\n",
       "      <td>R1</td>\n",
       "      <td>DAPI</td>\n",
       "      <td>BrCa (OHSU)</td>\n",
       "    </tr>\n",
       "    <tr>\n",
       "      <th>2</th>\n",
       "      <td>R4</td>\n",
       "      <td>Linear; Keypoint (OHSU; DAPI)</td>\n",
       "      <td>0.000112</td>\n",
       "      <td>R1</td>\n",
       "      <td>DAPI</td>\n",
       "      <td>BrCa (OHSU)</td>\n",
       "    </tr>\n",
       "    <tr>\n",
       "      <th>3</th>\n",
       "      <td>R5</td>\n",
       "      <td>Linear; Keypoint (OHSU; DAPI)</td>\n",
       "      <td>0.000107</td>\n",
       "      <td>R1</td>\n",
       "      <td>DAPI</td>\n",
       "      <td>BrCa (OHSU)</td>\n",
       "    </tr>\n",
       "    <tr>\n",
       "      <th>4</th>\n",
       "      <td>R6</td>\n",
       "      <td>Linear; Keypoint (OHSU; DAPI)</td>\n",
       "      <td>0.000106</td>\n",
       "      <td>R1</td>\n",
       "      <td>DAPI</td>\n",
       "      <td>BrCa (OHSU)</td>\n",
       "    </tr>\n",
       "  </tbody>\n",
       "</table>\n",
       "</div>"
      ],
      "text/plain": [
       "  Moving                       Strategy  Distance Target Channel      Dataset\n",
       "0     R2  Linear; Keypoint (OHSU; DAPI)  0.000105     R1    DAPI  BrCa (OHSU)\n",
       "1     R3  Linear; Keypoint (OHSU; DAPI)  0.000123     R1    DAPI  BrCa (OHSU)\n",
       "2     R4  Linear; Keypoint (OHSU; DAPI)  0.000112     R1    DAPI  BrCa (OHSU)\n",
       "3     R5  Linear; Keypoint (OHSU; DAPI)  0.000107     R1    DAPI  BrCa (OHSU)\n",
       "4     R6  Linear; Keypoint (OHSU; DAPI)  0.000106     R1    DAPI  BrCa (OHSU)"
      ]
     },
     "execution_count": 3,
     "metadata": {},
     "output_type": "execute_result"
    }
   ],
   "source": [
    "# read raw csv file with hackathon results obtained from GitHub repo\n",
    "# source: https://github.com/IAWG-CSBC-PSON/registration-challenge/blob/master/distance-results-tbl.tsv\n",
    "df = read_csv('../Data_Files/distance-results-tbl.tsv', sep='\\t')\n",
    "df.head()"
   ]
  },
  {
   "cell_type": "code",
   "execution_count": 6,
   "metadata": {},
   "outputs": [
    {
     "data": {
      "text/html": [
       "<div>\n",
       "<style scoped>\n",
       "    .dataframe tbody tr th:only-of-type {\n",
       "        vertical-align: middle;\n",
       "    }\n",
       "\n",
       "    .dataframe tbody tr th {\n",
       "        vertical-align: top;\n",
       "    }\n",
       "\n",
       "    .dataframe thead th {\n",
       "        text-align: right;\n",
       "    }\n",
       "</style>\n",
       "<table border=\"1\" class=\"dataframe\">\n",
       "  <thead>\n",
       "    <tr style=\"text-align: right;\">\n",
       "      <th></th>\n",
       "      <th>Registration Method</th>\n",
       "      <th>Target Round</th>\n",
       "      <th>Moving Round</th>\n",
       "      <th>Registration Channel</th>\n",
       "      <th>Dataset</th>\n",
       "      <th>TRE</th>\n",
       "      <th>Mean Error (um)</th>\n",
       "    </tr>\n",
       "  </thead>\n",
       "  <tbody>\n",
       "    <tr>\n",
       "      <th>0</th>\n",
       "      <td>Linear; Keypoint (OHSU; DAPI)</td>\n",
       "      <td>1</td>\n",
       "      <td>2</td>\n",
       "      <td>DAPI</td>\n",
       "      <td>BrCa (OHSU)</td>\n",
       "      <td>0.000105</td>\n",
       "      <td>n/a</td>\n",
       "    </tr>\n",
       "    <tr>\n",
       "      <th>1</th>\n",
       "      <td>Linear; Keypoint (OHSU; DAPI)</td>\n",
       "      <td>1</td>\n",
       "      <td>3</td>\n",
       "      <td>DAPI</td>\n",
       "      <td>BrCa (OHSU)</td>\n",
       "      <td>0.000123</td>\n",
       "      <td>n/a</td>\n",
       "    </tr>\n",
       "    <tr>\n",
       "      <th>2</th>\n",
       "      <td>Linear; Keypoint (OHSU; DAPI)</td>\n",
       "      <td>1</td>\n",
       "      <td>4</td>\n",
       "      <td>DAPI</td>\n",
       "      <td>BrCa (OHSU)</td>\n",
       "      <td>0.000112</td>\n",
       "      <td>n/a</td>\n",
       "    </tr>\n",
       "    <tr>\n",
       "      <th>3</th>\n",
       "      <td>Linear; Keypoint (OHSU; DAPI)</td>\n",
       "      <td>1</td>\n",
       "      <td>5</td>\n",
       "      <td>DAPI</td>\n",
       "      <td>BrCa (OHSU)</td>\n",
       "      <td>0.000107</td>\n",
       "      <td>n/a</td>\n",
       "    </tr>\n",
       "    <tr>\n",
       "      <th>4</th>\n",
       "      <td>Linear; Keypoint (OHSU; DAPI)</td>\n",
       "      <td>1</td>\n",
       "      <td>6</td>\n",
       "      <td>DAPI</td>\n",
       "      <td>BrCa (OHSU)</td>\n",
       "      <td>0.000106</td>\n",
       "      <td>n/a</td>\n",
       "    </tr>\n",
       "  </tbody>\n",
       "</table>\n",
       "</div>"
      ],
      "text/plain": [
       "             Registration Method  Target Round  Moving Round  \\\n",
       "0  Linear; Keypoint (OHSU; DAPI)             1             2   \n",
       "1  Linear; Keypoint (OHSU; DAPI)             1             3   \n",
       "2  Linear; Keypoint (OHSU; DAPI)             1             4   \n",
       "3  Linear; Keypoint (OHSU; DAPI)             1             5   \n",
       "4  Linear; Keypoint (OHSU; DAPI)             1             6   \n",
       "\n",
       "  Registration Channel      Dataset       TRE Mean Error (um)  \n",
       "0                 DAPI  BrCa (OHSU)  0.000105             n/a  \n",
       "1                 DAPI  BrCa (OHSU)  0.000123             n/a  \n",
       "2                 DAPI  BrCa (OHSU)  0.000112             n/a  \n",
       "3                 DAPI  BrCa (OHSU)  0.000107             n/a  \n",
       "4                 DAPI  BrCa (OHSU)  0.000106             n/a  "
      ]
     },
     "execution_count": 6,
     "metadata": {},
     "output_type": "execute_result"
    }
   ],
   "source": [
    "data = {'Registration Method': [], 'Target Round': [], 'Moving Round': [], 'Registration Channel': [], \n",
    "        'Dataset': [], 'TRE': [], 'Mean Error (um)': 'n/a'}\n",
    "\n",
    "for i, r in df.iterrows():\n",
    "    if r.Moving.startswith('R'):\n",
    "        moving_round = int(r.Moving[1:])\n",
    "    else:\n",
    "        moving_round = int(r.Moving)\n",
    "        \n",
    "    data['Registration Method'].append(r.Strategy)\n",
    "    data['Target Round'].append(int(r.Target[1:]))\n",
    "    data['Moving Round'].append(moving_round)\n",
    "    data['Registration Channel'].append(r.Channel)\n",
    "    data['Dataset'].append(r.Dataset)\n",
    "    data['TRE'].append(r.Distance)\n",
    "    \n",
    "# save the formatted dataframe to a new csv\n",
    "formatted_df = DataFrame(data)\n",
    "formatted_df.to_csv('../Data_Files/hackathon_challenge_results.csv', index=False, sep='\\t')\n",
    "formatted_df.head()"
   ]
  },
  {
   "cell_type": "markdown",
   "metadata": {},
   "source": [
    "## Create csv files with information about the images in a data directory of tifs\n",
    "Instead of reading the image metadata (i.e. round and channel) from the file name, create a csv file that contains this information. This will be the input for a lot of the functions run in this repo. The script below does this for the three datasets we use in the notebook examples - BRCA, healthy breast TMA, and tonsil tissue. "
   ]
  },
  {
   "cell_type": "code",
   "execution_count": 10,
   "metadata": {},
   "outputs": [],
   "source": [
    "utils.create_tif_dir_csv('/data/breastCancer', save_path='../Data_Files/breastCancerImages.csv');\n",
    "utils.create_tif_dir_csv('/data/tonsils', save_path='../Data_Files/tonsilImages.csv');\n",
    "utils.create_tif_dir_csv('/data/normalBreast', save_path='../Data_Files/breastImages.csv');"
   ]
  }
 ],
 "metadata": {
  "kernelspec": {
   "display_name": "Python 3",
   "language": "python",
   "name": "python3"
  },
  "language_info": {
   "codemirror_mode": {
    "name": "ipython",
    "version": 3
   },
   "file_extension": ".py",
   "mimetype": "text/x-python",
   "name": "python",
   "nbconvert_exporter": "python",
   "pygments_lexer": "ipython3",
   "version": "3.8.4"
  }
 },
 "nbformat": 4,
 "nbformat_minor": 4
}
