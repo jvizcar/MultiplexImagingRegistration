{
 "cells": [
  {
   "cell_type": "markdown",
   "metadata": {},
   "source": [
    "## Background Registration\n",
    "Wed. 21 Oct. 2020\n",
    "\n",
    "Register images to the target round 0 -- the background channel."
   ]
  },
  {
   "cell_type": "code",
   "execution_count": 1,
   "metadata": {},
   "outputs": [],
   "source": [
    "%load_ext autoreload\n",
    "%autoreload 2"
   ]
  },
  {
   "cell_type": "code",
   "execution_count": 2,
   "metadata": {},
   "outputs": [],
   "source": [
    "from mpleximreg import registration, viz, utils\n",
    "from imageio import imread, imwrite\n",
    "from pandas import read_csv, DataFrame\n",
    "import seaborn as sns\n",
    "\n",
    "from os import makedirs\n",
    "from os.path import join\n",
    "\n",
    "import matplotlib.pyplot as plt\n",
    "from matplotlib import rcParams\n",
    "\n",
    "rcParams['axes.titlesize'] = 18"
   ]
  },
  {
   "cell_type": "markdown",
   "metadata": {},
   "source": [
    "### Global parameters for notebook"
   ]
  },
  {
   "cell_type": "code",
   "execution_count": 14,
   "metadata": {},
   "outputs": [
    {
     "data": {
      "text/html": [
       "<div>\n",
       "<style scoped>\n",
       "    .dataframe tbody tr th:only-of-type {\n",
       "        vertical-align: middle;\n",
       "    }\n",
       "\n",
       "    .dataframe tbody tr th {\n",
       "        vertical-align: top;\n",
       "    }\n",
       "\n",
       "    .dataframe thead th {\n",
       "        text-align: right;\n",
       "    }\n",
       "</style>\n",
       "<table border=\"1\" class=\"dataframe\">\n",
       "  <thead>\n",
       "    <tr style=\"text-align: right;\">\n",
       "      <th></th>\n",
       "      <th>Moving</th>\n",
       "      <th>Dataset</th>\n",
       "      <th>Registration Error</th>\n",
       "      <th>Mean Distance</th>\n",
       "    </tr>\n",
       "  </thead>\n",
       "  <tbody>\n",
       "    <tr>\n",
       "      <th>0</th>\n",
       "      <td>R2</td>\n",
       "      <td>Unaligned</td>\n",
       "      <td>0.026000</td>\n",
       "      <td>0</td>\n",
       "    </tr>\n",
       "    <tr>\n",
       "      <th>1</th>\n",
       "      <td>R2</td>\n",
       "      <td>OHSU Aligned</td>\n",
       "      <td>0.000105</td>\n",
       "      <td>0</td>\n",
       "    </tr>\n",
       "    <tr>\n",
       "      <th>2</th>\n",
       "      <td>R2</td>\n",
       "      <td>Rigid alignment on DAPI</td>\n",
       "      <td>0.000107</td>\n",
       "      <td>0</td>\n",
       "    </tr>\n",
       "    <tr>\n",
       "      <th>3</th>\n",
       "      <td>R2</td>\n",
       "      <td>Non-rigid alignment on channel 2</td>\n",
       "      <td>0.000156</td>\n",
       "      <td>0</td>\n",
       "    </tr>\n",
       "    <tr>\n",
       "      <th>4</th>\n",
       "      <td>R3</td>\n",
       "      <td>Unaligned</td>\n",
       "      <td>0.024000</td>\n",
       "      <td>0</td>\n",
       "    </tr>\n",
       "    <tr>\n",
       "      <th>5</th>\n",
       "      <td>R3</td>\n",
       "      <td>OHSU Aligned</td>\n",
       "      <td>0.000123</td>\n",
       "      <td>0</td>\n",
       "    </tr>\n",
       "    <tr>\n",
       "      <th>6</th>\n",
       "      <td>R3</td>\n",
       "      <td>Rigid alignment on DAPI</td>\n",
       "      <td>0.000122</td>\n",
       "      <td>0</td>\n",
       "    </tr>\n",
       "    <tr>\n",
       "      <th>7</th>\n",
       "      <td>R3</td>\n",
       "      <td>Non-rigid alignment on channel 2</td>\n",
       "      <td>0.000274</td>\n",
       "      <td>0</td>\n",
       "    </tr>\n",
       "    <tr>\n",
       "      <th>8</th>\n",
       "      <td>R4</td>\n",
       "      <td>Unaligned</td>\n",
       "      <td>0.026000</td>\n",
       "      <td>0</td>\n",
       "    </tr>\n",
       "    <tr>\n",
       "      <th>9</th>\n",
       "      <td>R4</td>\n",
       "      <td>OHSU Aligned</td>\n",
       "      <td>0.000112</td>\n",
       "      <td>0</td>\n",
       "    </tr>\n",
       "    <tr>\n",
       "      <th>10</th>\n",
       "      <td>R4</td>\n",
       "      <td>Rigid alignment on DAPI</td>\n",
       "      <td>0.000115</td>\n",
       "      <td>0</td>\n",
       "    </tr>\n",
       "    <tr>\n",
       "      <th>11</th>\n",
       "      <td>R4</td>\n",
       "      <td>Non-rigid alignment on channel 2</td>\n",
       "      <td>0.000340</td>\n",
       "      <td>0</td>\n",
       "    </tr>\n",
       "    <tr>\n",
       "      <th>12</th>\n",
       "      <td>R5</td>\n",
       "      <td>Unaligned</td>\n",
       "      <td>0.056000</td>\n",
       "      <td>0</td>\n",
       "    </tr>\n",
       "    <tr>\n",
       "      <th>13</th>\n",
       "      <td>R5</td>\n",
       "      <td>OHSU Aligned</td>\n",
       "      <td>0.000107</td>\n",
       "      <td>0</td>\n",
       "    </tr>\n",
       "    <tr>\n",
       "      <th>14</th>\n",
       "      <td>R5</td>\n",
       "      <td>Rigid alignment on DAPI</td>\n",
       "      <td>0.000103</td>\n",
       "      <td>0</td>\n",
       "    </tr>\n",
       "    <tr>\n",
       "      <th>15</th>\n",
       "      <td>R5</td>\n",
       "      <td>Non-rigid alignment on channel 2</td>\n",
       "      <td>0.000165</td>\n",
       "      <td>0</td>\n",
       "    </tr>\n",
       "    <tr>\n",
       "      <th>16</th>\n",
       "      <td>R6</td>\n",
       "      <td>Unaligned</td>\n",
       "      <td>0.145000</td>\n",
       "      <td>0</td>\n",
       "    </tr>\n",
       "    <tr>\n",
       "      <th>17</th>\n",
       "      <td>R6</td>\n",
       "      <td>OHSU Aligned</td>\n",
       "      <td>0.000106</td>\n",
       "      <td>0</td>\n",
       "    </tr>\n",
       "    <tr>\n",
       "      <th>18</th>\n",
       "      <td>R6</td>\n",
       "      <td>Rigid alignment on DAPI</td>\n",
       "      <td>0.000092</td>\n",
       "      <td>0</td>\n",
       "    </tr>\n",
       "    <tr>\n",
       "      <th>19</th>\n",
       "      <td>R6</td>\n",
       "      <td>Non-rigid alignment on channel 2</td>\n",
       "      <td>0.000177</td>\n",
       "      <td>0</td>\n",
       "    </tr>\n",
       "    <tr>\n",
       "      <th>20</th>\n",
       "      <td>R7</td>\n",
       "      <td>Unaligned</td>\n",
       "      <td>0.005000</td>\n",
       "      <td>0</td>\n",
       "    </tr>\n",
       "    <tr>\n",
       "      <th>21</th>\n",
       "      <td>R7</td>\n",
       "      <td>OHSU Aligned</td>\n",
       "      <td>0.000107</td>\n",
       "      <td>0</td>\n",
       "    </tr>\n",
       "    <tr>\n",
       "      <th>22</th>\n",
       "      <td>R7</td>\n",
       "      <td>Rigid alignment on DAPI</td>\n",
       "      <td>0.000108</td>\n",
       "      <td>0</td>\n",
       "    </tr>\n",
       "    <tr>\n",
       "      <th>23</th>\n",
       "      <td>R7</td>\n",
       "      <td>Non-rigid alignment on channel 2</td>\n",
       "      <td>0.000210</td>\n",
       "      <td>0</td>\n",
       "    </tr>\n",
       "    <tr>\n",
       "      <th>24</th>\n",
       "      <td>R8</td>\n",
       "      <td>Unaligned</td>\n",
       "      <td>0.039000</td>\n",
       "      <td>0</td>\n",
       "    </tr>\n",
       "    <tr>\n",
       "      <th>25</th>\n",
       "      <td>R8</td>\n",
       "      <td>OHSU Aligned</td>\n",
       "      <td>0.000130</td>\n",
       "      <td>0</td>\n",
       "    </tr>\n",
       "    <tr>\n",
       "      <th>26</th>\n",
       "      <td>R8</td>\n",
       "      <td>Rigid alignment on DAPI</td>\n",
       "      <td>0.000123</td>\n",
       "      <td>0</td>\n",
       "    </tr>\n",
       "    <tr>\n",
       "      <th>27</th>\n",
       "      <td>R8</td>\n",
       "      <td>Non-rigid alignment on channel 2</td>\n",
       "      <td>0.000171</td>\n",
       "      <td>0</td>\n",
       "    </tr>\n",
       "    <tr>\n",
       "      <th>28</th>\n",
       "      <td>R9</td>\n",
       "      <td>Unaligned</td>\n",
       "      <td>0.017000</td>\n",
       "      <td>0</td>\n",
       "    </tr>\n",
       "    <tr>\n",
       "      <th>29</th>\n",
       "      <td>R9</td>\n",
       "      <td>OHSU Aligned</td>\n",
       "      <td>0.000101</td>\n",
       "      <td>0</td>\n",
       "    </tr>\n",
       "    <tr>\n",
       "      <th>30</th>\n",
       "      <td>R9</td>\n",
       "      <td>Rigid alignment on DAPI</td>\n",
       "      <td>0.000110</td>\n",
       "      <td>0</td>\n",
       "    </tr>\n",
       "    <tr>\n",
       "      <th>31</th>\n",
       "      <td>R9</td>\n",
       "      <td>Non-rigid alignment on channel 2</td>\n",
       "      <td>0.000296</td>\n",
       "      <td>0</td>\n",
       "    </tr>\n",
       "    <tr>\n",
       "      <th>32</th>\n",
       "      <td>R10</td>\n",
       "      <td>Unaligned</td>\n",
       "      <td>0.034000</td>\n",
       "      <td>0</td>\n",
       "    </tr>\n",
       "    <tr>\n",
       "      <th>33</th>\n",
       "      <td>R10</td>\n",
       "      <td>OHSU Aligned</td>\n",
       "      <td>0.000112</td>\n",
       "      <td>0</td>\n",
       "    </tr>\n",
       "    <tr>\n",
       "      <th>34</th>\n",
       "      <td>R10</td>\n",
       "      <td>Rigid alignment on DAPI</td>\n",
       "      <td>0.000110</td>\n",
       "      <td>0</td>\n",
       "    </tr>\n",
       "    <tr>\n",
       "      <th>35</th>\n",
       "      <td>R10</td>\n",
       "      <td>Non-rigid alignment on channel 2</td>\n",
       "      <td>0.000140</td>\n",
       "      <td>0</td>\n",
       "    </tr>\n",
       "    <tr>\n",
       "      <th>36</th>\n",
       "      <td>R11</td>\n",
       "      <td>Unaligned</td>\n",
       "      <td>0.015000</td>\n",
       "      <td>0</td>\n",
       "    </tr>\n",
       "    <tr>\n",
       "      <th>37</th>\n",
       "      <td>R11</td>\n",
       "      <td>OHSU Aligned</td>\n",
       "      <td>0.000087</td>\n",
       "      <td>0</td>\n",
       "    </tr>\n",
       "    <tr>\n",
       "      <th>38</th>\n",
       "      <td>R11</td>\n",
       "      <td>Rigid alignment on DAPI</td>\n",
       "      <td>0.000081</td>\n",
       "      <td>0</td>\n",
       "    </tr>\n",
       "    <tr>\n",
       "      <th>39</th>\n",
       "      <td>R11</td>\n",
       "      <td>Non-rigid alignment on channel 2</td>\n",
       "      <td>0.000161</td>\n",
       "      <td>0</td>\n",
       "    </tr>\n",
       "  </tbody>\n",
       "</table>\n",
       "</div>"
      ],
      "text/plain": [
       "   Moving                           Dataset  Registration Error  Mean Distance\n",
       "0      R2                         Unaligned            0.026000              0\n",
       "1      R2                      OHSU Aligned            0.000105              0\n",
       "2      R2           Rigid alignment on DAPI            0.000107              0\n",
       "3      R2  Non-rigid alignment on channel 2            0.000156              0\n",
       "4      R3                         Unaligned            0.024000              0\n",
       "5      R3                      OHSU Aligned            0.000123              0\n",
       "6      R3           Rigid alignment on DAPI            0.000122              0\n",
       "7      R3  Non-rigid alignment on channel 2            0.000274              0\n",
       "8      R4                         Unaligned            0.026000              0\n",
       "9      R4                      OHSU Aligned            0.000112              0\n",
       "10     R4           Rigid alignment on DAPI            0.000115              0\n",
       "11     R4  Non-rigid alignment on channel 2            0.000340              0\n",
       "12     R5                         Unaligned            0.056000              0\n",
       "13     R5                      OHSU Aligned            0.000107              0\n",
       "14     R5           Rigid alignment on DAPI            0.000103              0\n",
       "15     R5  Non-rigid alignment on channel 2            0.000165              0\n",
       "16     R6                         Unaligned            0.145000              0\n",
       "17     R6                      OHSU Aligned            0.000106              0\n",
       "18     R6           Rigid alignment on DAPI            0.000092              0\n",
       "19     R6  Non-rigid alignment on channel 2            0.000177              0\n",
       "20     R7                         Unaligned            0.005000              0\n",
       "21     R7                      OHSU Aligned            0.000107              0\n",
       "22     R7           Rigid alignment on DAPI            0.000108              0\n",
       "23     R7  Non-rigid alignment on channel 2            0.000210              0\n",
       "24     R8                         Unaligned            0.039000              0\n",
       "25     R8                      OHSU Aligned            0.000130              0\n",
       "26     R8           Rigid alignment on DAPI            0.000123              0\n",
       "27     R8  Non-rigid alignment on channel 2            0.000171              0\n",
       "28     R9                         Unaligned            0.017000              0\n",
       "29     R9                      OHSU Aligned            0.000101              0\n",
       "30     R9           Rigid alignment on DAPI            0.000110              0\n",
       "31     R9  Non-rigid alignment on channel 2            0.000296              0\n",
       "32    R10                         Unaligned            0.034000              0\n",
       "33    R10                      OHSU Aligned            0.000112              0\n",
       "34    R10           Rigid alignment on DAPI            0.000110              0\n",
       "35    R10  Non-rigid alignment on channel 2            0.000140              0\n",
       "36    R11                         Unaligned            0.015000              0\n",
       "37    R11                      OHSU Aligned            0.000087              0\n",
       "38    R11           Rigid alignment on DAPI            0.000081              0\n",
       "39    R11  Non-rigid alignment on channel 2            0.000161              0"
      ]
     },
     "execution_count": 14,
     "metadata": {},
     "output_type": "execute_result"
    }
   ],
   "source": [
    "# directories\n",
    "brca_tif_dir = '/mnt/nvme/SageBionetworks/Registration/breastCancer/'  # raw unaligned images\n",
    "brca_r1_nr_dir = '/mnt/nvme/SageBionetworks/Registration/breastCancer-Round1Channel2Reg/'  # target round 1 - channel 2\n",
    "brca_r0_nr_dir = '/mnt/nvme/SageBionetworks/Registration/breastCancer-Round0Channel2Reg/'  # target round 0 - channel 2\n",
    "brca_cropped_dir = '/mnt/nvme/SageBionetworks/Registration/breastCancerCropped'\n",
    "brca_cropped_r0_nr_dir = '/mnt/nvme/SageBionetworks/Registration/breastCancerCropped-Reg'\n",
    "\n",
    "brca_tif_dict = utils.parse_tif_dir(brca_tif_dir)\n",
    "\n",
    "im_res = 0.32  # micro-meter per pixel\n",
    "\n",
    "# csv filepaths\n",
    "raw_csv = 'Data_Files/brca_kp_distances.csv'\n",
    "data_csv = 'Data_Files/brca_kp_distances_extra.csv'\n",
    "\n",
    "# read the results from the hackathon -- format into format to plot\n",
    "df = read_csv('Data_Files/brca_kp_distances.csv')\n",
    "data = {'Moving': [], 'Dataset': [], 'Registration Error': [], 'Mean Distance': 0}\n",
    "\n",
    "for i, r in df.iterrows():\n",
    "    data['Moving'].extend([r.Moving] * 4)\n",
    "    data['Dataset'].append('Unaligned')\n",
    "    data['Registration Error'].append(r['Unaligned'])\n",
    "    data['Dataset'].append('OHSU Aligned')\n",
    "    data['Registration Error'].append(r['OHSU Aligned'])\n",
    "    data['Dataset'].append('Rigid alignment on DAPI')\n",
    "    data['Registration Error'].append(r['Rigid alignment on DAPI'])\n",
    "    data['Dataset'].append('Non-rigid alignment on channel 2')\n",
    "    data['Registration Error'].append(r['Non-rigid alignment on channel 2'])\n",
    "df = DataFrame(data)\n",
    "df"
   ]
  },
  {
   "cell_type": "markdown",
   "metadata": {},
   "source": [
    "## 1) Round 1 as target round (hackathon approach)\n",
    "This uses the non-rigid registration approach on channel 2 of rounds."
   ]
  },
  {
   "cell_type": "code",
   "execution_count": 5,
   "metadata": {},
   "outputs": [
    {
     "name": "stdout",
     "output_type": "stream",
     "text": [
      "Registering round 9\n",
      "Registering round 2\n",
      "Registering round 4\n",
      "Registering round 5\n",
      "Registering round 7\n",
      "Registering round 11\n",
      "Registering round 8\n",
      "Registering round 6\n",
      "Registering round 3\n",
      "Registering round 10\n"
     ]
    }
   ],
   "source": [
    "# runs non-rigid transformation on an entire using specified target_round / channel\n",
    "registration.nonrigid_transform_dir(brca_tif_dir, brca_r1_nr_dir, target_round=1)"
   ]
  },
  {
   "cell_type": "markdown",
   "metadata": {},
   "source": [
    "## 2) Round 0 as target round (background round)\n",
    "Uses channel 2 in every round."
   ]
  },
  {
   "cell_type": "code",
   "execution_count": null,
   "metadata": {},
   "outputs": [],
   "source": [
    "# runs non-rigid transformation on an entire using specified target_round / channel\n",
    "registration.nonrigid_transform_dir(brca_tif_dir, brca_r0_nr_dir, target_round=0)"
   ]
  },
  {
   "cell_type": "markdown",
   "metadata": {},
   "source": [
    "## 3.1) Manually crop images - remove adjacent TMA tissue\n",
    "For every round in the breast cancer unregistered tif dir, crop all the channel images in that round to remove any adjacent TMA tissue. Save this to a separate dir for running registration."
   ]
  },
  {
   "cell_type": "code",
   "execution_count": null,
   "metadata": {
    "code_folding": []
   },
   "outputs": [],
   "source": [
    "# create dir to save new \"cropped\" images\n",
    "makedirs(brca_cropped_dir, exist_ok=True)\n",
    "\n",
    "# create a dict with the left and bottom coordiates to crop image with\n",
    "# note that adjacent TMAs in this dataset are only seen in the left and bottom\n",
    "crop_dicts = {\n",
    "    0: {'left': 500, 'bottom': 5000}, 1: {'left': 1000, 'bottom': 5000}, 2: {'left': 1000, 'bottom': 5000},\n",
    "    3: {'left': 1000, 'bottom': 4500}, 4: {'left': 0, 'bottom': 5000}, 5: {'left': 1000, 'bottom': 4500},\n",
    "    6: {'left': 0, 'bottom': 4500}, 7: {'left': 1000, 'bottom': 5000}, 8: {'left': 1000, 'bottom': 4500},\n",
    "    9: {'left': 1000, 'bottom': 5000}, 10: {'left': 1000, 'bottom': 5000}, 11: {'left': 1000, 'bottom': 5000}\n",
    "}\n",
    "\n",
    "# loop through each round\n",
    "for _round, channel_dict in brca_tif_dict.items():\n",
    "    # croop coordinates for this round\n",
    "    crop_dict = crop_dicts[_round]\n",
    "    \n",
    "    # loop through each channel in round\n",
    "    for impath in channel_dict.values():\n",
    "        filename = impath.split('/')[-1]\n",
    "        \n",
    "        # read image\n",
    "        im = imread(impath)\n",
    "        \n",
    "        # crop the image\n",
    "        im = im[0:crop_dict['bottom'], crop_dict['left']::]\n",
    "        \n",
    "        # save the image\n",
    "        imwrite(join(brca_cropped_dir, filename), im)"
   ]
  },
  {
   "cell_type": "markdown",
   "metadata": {},
   "source": [
    "## 3.2) Register cropped tif dir using round 0 as target round & channel 2"
   ]
  },
  {
   "cell_type": "code",
   "execution_count": null,
   "metadata": {},
   "outputs": [],
   "source": [
    "# runs non-rigid transformation on an entire using specified target_round / channel\n",
    "registration.nonrigid_transform_dir(brca_cropped_dir, brca_cropped_nr_dir, target_round=0)"
   ]
  },
  {
   "cell_type": "markdown",
   "metadata": {},
   "source": [
    "## 4) Caluculate TRE / mean distances for all directories\n",
    "New functionality now adds mean distances in pixel length that can be converted to micro-meter."
   ]
  },
  {
   "cell_type": "code",
   "execution_count": 15,
   "metadata": {},
   "outputs": [
    {
     "name": "stdout",
     "output_type": "stream",
     "text": [
      "Calculating for round 9\n",
      "Calculating for round 2\n",
      "Calculating for round 4\n",
      "Calculating for round 5\n",
      "Calculating for round 7\n",
      "Calculating for round 11\n",
      "Calculating for round 8\n",
      "Calculating for round 6\n",
      "Calculating for round 3\n",
      "Calculating for round 10\n"
     ]
    }
   ],
   "source": [
    "# recreating hackathon non-rigid results\n",
    "results = registration.tre_dir(brca_r1_nr_dir, 'Round1Channel2Reg')\n",
    "\n",
    "# append results to the hackathon results for plotting\n",
    "df_all = df.append(results, ignore_index=True)"
   ]
  },
  {
   "cell_type": "code",
   "execution_count": 16,
   "metadata": {},
   "outputs": [
    {
     "name": "stdout",
     "output_type": "stream",
     "text": [
      "Calculating for round 9\n",
      "Calculating for round 2\n",
      "Calculating for round 4\n",
      "Calculating for round 5\n",
      "Calculating for round 7\n",
      "Calculating for round 11\n",
      "Calculating for round 8\n",
      "Calculating for round 6\n",
      "Calculating for round 3\n",
      "Calculating for round 10\n"
     ]
    }
   ],
   "source": [
    "# non-rigid registration with round 0 as target round and channel 2\n",
    "results = registration.tre_dir(brca_r0_nr_dir, 'Round0Channel2Reg')\n",
    "\n",
    "# append results to the hackathon results for plotting\n",
    "df_all = df_all.append(results, ignore_index=True)"
   ]
  },
  {
   "cell_type": "code",
   "execution_count": 17,
   "metadata": {},
   "outputs": [
    {
     "name": "stdout",
     "output_type": "stream",
     "text": [
      "Calculating for round 9\n",
      "Calculating for round 2\n",
      "Calculating for round 4\n",
      "Calculating for round 5\n",
      "Calculating for round 7\n",
      "Calculating for round 11\n",
      "Calculating for round 8\n",
      "Calculating for round 6\n",
      "Calculating for round 3\n",
      "Calculating for round 10\n"
     ]
    }
   ],
   "source": [
    "# non-rigid registration with round 0 as target round and channel 2 on cropped images\n",
    "results = registration.tre_dir(brca_cropped_nr_dir, 'ManualCrop-NR')\n",
    "\n",
    "# append results to the hackathon results for plotting\n",
    "df_all = df_all.append(results, ignore_index=True)\n",
    "df_all.to_csv(data_csv, index=False)"
   ]
  },
  {
   "cell_type": "markdown",
   "metadata": {},
   "source": [
    "## Interactors"
   ]
  },
  {
   "cell_type": "markdown",
   "metadata": {},
   "source": [
    "### Visualize tif dirs"
   ]
  },
  {
   "cell_type": "code",
   "execution_count": null,
   "metadata": {},
   "outputs": [],
   "source": [
    "# specify the directory to read\n",
    "tiff_dirs = [brca_tif_dir, brca_cropped_dir, brca_cropped_nr_dir]\n",
    "\n",
    "viz.interact_tif_dirs(tiff_dirs)"
   ]
  },
  {
   "cell_type": "markdown",
   "metadata": {},
   "source": [
    "### Plot TRE Results"
   ]
  },
  {
   "cell_type": "code",
   "execution_count": 26,
   "metadata": {},
   "outputs": [
    {
     "data": {
      "image/png": "[encoded data removed]",
      "text/plain": [
       "<Figure size 1080x504 with 2 Axes>"
      ]
     },
     "metadata": {
      "needs_background": "light"
     },
     "output_type": "display_data"
    }
   ],
   "source": [
    "# read the csv\n",
    "df_all = read_csv(data_csv)\n",
    "\n",
    "order = ['Unaligned', 'OHSU Aligned', 'Rigid alignment on DAPI', 'Non-rigid alignment on channel 2', 'Round1Channel2Reg',\n",
    "         'Round0Channel2Reg', 'ManualCrop-NR']\n",
    "\n",
    "# plot the results\n",
    "fig, ax = plt.subplots(ncols=2, figsize=(15,7))\n",
    "sns.swarmplot(x='Dataset', y='Registration Error', data=df_all, ax=ax[0], order=order)\n",
    "sns.swarmplot(x='Dataset', y='Registration Error', data=df_all, ax=ax[1], order=order)\n",
    "ax[0].set_xlabel('')\n",
    "ax[1].set_xlabel('')\n",
    "ax[1].set_ylim([0, 0.0025])\n",
    "for tick in ax[0].get_xticklabels():\n",
    "    tick.set_rotation(90)\n",
    "for tick in ax[1].get_xticklabels():\n",
    "    tick.set_rotation(90)\n",
    "plt.show()"
   ]
  },
  {
   "cell_type": "markdown",
   "metadata": {},
   "source": [
    "### Plot the mean distance results"
   ]
  },
  {
   "cell_type": "code",
   "execution_count": 32,
   "metadata": {},
   "outputs": [
    {
     "data": {
      "image/png": "[encoded data removed]",
      "text/plain": [
       "<Figure size 1080x504 with 2 Axes>"
      ]
     },
     "metadata": {
      "needs_background": "light"
     },
     "output_type": "display_data"
    }
   ],
   "source": [
    "df_all = read_csv(data_csv)\n",
    "\n",
    "# convert the mean distance from pixels to micrometers\n",
    "df_all['Mean Distance'] = df_all['Mean Distance'] * im_res\n",
    "\n",
    "order = ['Round1Channel2Reg', 'Round0Channel2Reg', 'ManualCrop-NR']\n",
    "\n",
    "fig, ax = plt.subplots(ncols=2, figsize=(15,7))\n",
    "sns.swarmplot(x='Dataset', y='Mean Distance', data=df_all, ax=ax[0], order=order)\n",
    "sns.swarmplot(x='Dataset', y='Mean Distance', data=df_all, ax=ax[1], order=order)\n",
    "ax[0].set_xlabel('')\n",
    "ax[1].set_xlabel('')\n",
    "ax[0].set_ylabel('Mean error distance (micro-meter)')\n",
    "ax[1].set_ylabel('')\n",
    "ax[1].set_ylim([0, 1.5])\n",
    "for tick in ax[0].get_xticklabels():\n",
    "    tick.set_rotation(90)\n",
    "for tick in ax[1].get_xticklabels():\n",
    "    tick.set_rotation(90)\n",
    "plt.show()"
   ]
  }
 ],
 "metadata": {
  "kernelspec": {
   "display_name": "Python 3",
   "language": "python",
   "name": "python3"
  },
  "language_info": {
   "codemirror_mode": {
    "name": "ipython",
    "version": 3
   },
   "file_extension": ".py",
   "mimetype": "text/x-python",
   "name": "python",
   "nbconvert_exporter": "python",
   "pygments_lexer": "ipython3",
   "version": "3.7.7"
  }
 },
 "nbformat": 4,
 "nbformat_minor": 4
}
